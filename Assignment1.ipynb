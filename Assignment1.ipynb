{
 "cells": [
  {
   "cell_type": "markdown",
   "metadata": {},
   "source": [
    "## Python code for Assignment Question no.1"
   ]
  },
  {
   "cell_type": "code",
   "execution_count": null,
   "metadata": {},
   "outputs": [],
   "source": [
    "#PROGRAM TO FIND NUMBERS IN BETWEEN RANGE OF 2000 AND 3200 ( BOTH INCLUSIVE) WHICH ARE DIVISIBLE BY 7 AND NOT MULTIPLES OF 5.OUTPUTS ARE SEPARATED BY COMMA \n",
    "#type(x)==int:\n",
    "#type(y)==float:\n",
    "for x in range(2000,3200):\n",
    "     if (x%7==0):\n",
    "        y=(x/5.0)\n",
    "        if(y%5!=0):\n",
    "            print(str(x)+',')\n",
    "    \n",
    "   \n",
    "            \n",
    "        "
   ]
  },
  {
   "cell_type": "markdown",
   "metadata": {},
   "source": [
    "## Python code for Assignment Question no.2"
   ]
  },
  {
   "cell_type": "code",
   "execution_count": null,
   "metadata": {},
   "outputs": [],
   "source": [
    " # A Python program to accept the user's first and last name and then getting them printed in the the reverse order with a space between first name and last name\n",
    "first_name=input('Enter your 1st name')\n",
    "last_name=input('Enter your last name')\n",
    "s=first_name[::-1]+' '+last_name[::-1]\n",
    "print(s)\n",
    "                \n",
    "    "
   ]
  },
  {
   "cell_type": "markdown",
   "metadata": {},
   "source": [
    "## Python code for Assignment Question no.3"
   ]
  },
  {
   "cell_type": "code",
   "execution_count": null,
   "metadata": {},
   "outputs": [],
   "source": [
    "#A Python program to find the volume of a sphere with diameter 12 cm.\n",
    "\n",
    "pi=3.14 #taking approx value of pi\n",
    "r=6.0 #since d=r/2\n",
    "v=4/3*pi*r**3\n",
    "print('the volume of a sphere with diameter 12 cm. is ',v)"
   ]
  },
  {
   "cell_type": "code",
   "execution_count": null,
   "metadata": {},
   "outputs": [],
   "source": []
  }
 ],
 "metadata": {
  "kernelspec": {
   "display_name": "Python 3",
   "language": "python",
   "name": "python3"
  },
  "language_info": {
   "codemirror_mode": {
    "name": "ipython",
    "version": 3
   },
   "file_extension": ".py",
   "mimetype": "text/x-python",
   "name": "python",
   "nbconvert_exporter": "python",
   "pygments_lexer": "ipython3",
   "version": "3.7.6"
  }
 },
 "nbformat": 4,
 "nbformat_minor": 4
}
